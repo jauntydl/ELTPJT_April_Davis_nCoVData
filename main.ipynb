{
 "cells": [
  {
   "cell_type": "code",
   "execution_count": 7,
   "metadata": {},
   "outputs": [
    {
     "data": {
      "text/html": "<div>\n<style scoped>\n    .dataframe tbody tr th:only-of-type {\n        vertical-align: middle;\n    }\n\n    .dataframe tbody tr th {\n        vertical-align: top;\n    }\n\n    .dataframe thead th {\n        text-align: right;\n    }\n</style>\n<table border=\"1\" class=\"dataframe\">\n  <thead>\n    <tr style=\"text-align: right;\">\n      <th></th>\n      <th>Confirmed</th>\n      <th>Deaths</th>\n      <th>Recovered</th>\n    </tr>\n    <tr>\n      <th>Country</th>\n      <th></th>\n      <th></th>\n      <th></th>\n    </tr>\n  </thead>\n  <tbody>\n    <tr>\n      <td>Australia</td>\n      <td>15</td>\n      <td>0</td>\n      <td>2</td>\n    </tr>\n    <tr>\n      <td>Belgium</td>\n      <td>1</td>\n      <td>0</td>\n      <td>0</td>\n    </tr>\n    <tr>\n      <td>Cambodia</td>\n      <td>1</td>\n      <td>0</td>\n      <td>0</td>\n    </tr>\n    <tr>\n      <td>Canada</td>\n      <td>7</td>\n      <td>0</td>\n      <td>0</td>\n    </tr>\n    <tr>\n      <td>Finland</td>\n      <td>1</td>\n      <td>0</td>\n      <td>0</td>\n    </tr>\n    <tr>\n      <td>France</td>\n      <td>11</td>\n      <td>0</td>\n      <td>0</td>\n    </tr>\n    <tr>\n      <td>Germany</td>\n      <td>14</td>\n      <td>0</td>\n      <td>0</td>\n    </tr>\n    <tr>\n      <td>Hong Kong</td>\n      <td>38</td>\n      <td>1</td>\n      <td>0</td>\n    </tr>\n    <tr>\n      <td>India</td>\n      <td>3</td>\n      <td>0</td>\n      <td>0</td>\n    </tr>\n    <tr>\n      <td>Italy</td>\n      <td>3</td>\n      <td>0</td>\n      <td>0</td>\n    </tr>\n    <tr>\n      <td>Japan</td>\n      <td>26</td>\n      <td>0</td>\n      <td>4</td>\n    </tr>\n    <tr>\n      <td>Macau</td>\n      <td>10</td>\n      <td>0</td>\n      <td>1</td>\n    </tr>\n    <tr>\n      <td>Mainland China</td>\n      <td>42310</td>\n      <td>1011</td>\n      <td>3921</td>\n    </tr>\n    <tr>\n      <td>Malaysia</td>\n      <td>18</td>\n      <td>0</td>\n      <td>1</td>\n    </tr>\n    <tr>\n      <td>Nepal</td>\n      <td>1</td>\n      <td>0</td>\n      <td>0</td>\n    </tr>\n    <tr>\n      <td>Others</td>\n      <td>135</td>\n      <td>0</td>\n      <td>0</td>\n    </tr>\n    <tr>\n      <td>Philippines</td>\n      <td>3</td>\n      <td>1</td>\n      <td>0</td>\n    </tr>\n    <tr>\n      <td>Russia</td>\n      <td>2</td>\n      <td>0</td>\n      <td>0</td>\n    </tr>\n    <tr>\n      <td>Singapore</td>\n      <td>45</td>\n      <td>0</td>\n      <td>2</td>\n    </tr>\n    <tr>\n      <td>South Korea</td>\n      <td>27</td>\n      <td>0</td>\n      <td>3</td>\n    </tr>\n    <tr>\n      <td>Spain</td>\n      <td>2</td>\n      <td>0</td>\n      <td>0</td>\n    </tr>\n    <tr>\n      <td>Sri Lanka</td>\n      <td>1</td>\n      <td>0</td>\n      <td>1</td>\n    </tr>\n    <tr>\n      <td>Sweden</td>\n      <td>1</td>\n      <td>0</td>\n      <td>0</td>\n    </tr>\n    <tr>\n      <td>Taiwan</td>\n      <td>18</td>\n      <td>0</td>\n      <td>1</td>\n    </tr>\n    <tr>\n      <td>Thailand</td>\n      <td>32</td>\n      <td>0</td>\n      <td>10</td>\n    </tr>\n    <tr>\n      <td>UK</td>\n      <td>8</td>\n      <td>0</td>\n      <td>0</td>\n    </tr>\n    <tr>\n      <td>US</td>\n      <td>12</td>\n      <td>0</td>\n      <td>3</td>\n    </tr>\n    <tr>\n      <td>United Arab Emirates</td>\n      <td>8</td>\n      <td>0</td>\n      <td>0</td>\n    </tr>\n    <tr>\n      <td>Vietnam</td>\n      <td>14</td>\n      <td>0</td>\n      <td>1</td>\n    </tr>\n  </tbody>\n</table>\n</div>",
      "text/plain": "                      Confirmed  Deaths  Recovered\nCountry                                           \nAustralia                    15       0          2\nBelgium                       1       0          0\nCambodia                      1       0          0\nCanada                        7       0          0\nFinland                       1       0          0\nFrance                       11       0          0\nGermany                      14       0          0\nHong Kong                    38       1          0\nIndia                         3       0          0\nItaly                         3       0          0\nJapan                        26       0          4\nMacau                        10       0          1\nMainland China            42310    1011       3921\nMalaysia                     18       0          1\nNepal                         1       0          0\nOthers                      135       0          0\nPhilippines                   3       1          0\nRussia                        2       0          0\nSingapore                    45       0          2\nSouth Korea                  27       0          3\nSpain                         2       0          0\nSri Lanka                     1       0          1\nSweden                        1       0          0\nTaiwan                       18       0          1\nThailand                     32       0         10\nUK                            8       0          0\nUS                           12       0          3\nUnited Arab Emirates          8       0          0\nVietnam                      14       0          1"
     },
     "execution_count": 7,
     "metadata": {},
     "output_type": "execute_result"
    }
   ],
   "source": [
    "import pandas as pd\n",
    "from sqlalchemy import create_engine\n",
    "from config import usid, pw\n",
    "\n",
    "#store FIRST CSV into dataframe\n",
    "csv_file = \"Resources/Corona_db.csv\"\n",
    "corona_df = pd.read_csv(csv_file)\n",
    "corona_df.head()\n",
    "\n",
    "# Filter data from latest date\n",
    "corona_df = corona_df[corona_df[\"Date\"]=='2/10/2020 19:30']\n",
    "\n",
    "#Leave only the needed columns\n",
    "corona_df = corona_df[['Country','Confirmed', 'Deaths',\"Recovered\"]]\n",
    "\n",
    "#Groupby country so it can serve as primary key\n",
    "final_corona_df = corona_df.groupby([\"Country\"]).sum().copy()\n",
    "final_corona_df.reset_index()\n",
    "final_corona_df"
   ]
  },
  {
   "cell_type": "code",
   "execution_count": 8,
   "metadata": {},
   "outputs": [
    {
     "data": {
      "text/html": "<div>\n<style scoped>\n    .dataframe tbody tr th:only-of-type {\n        vertical-align: middle;\n    }\n\n    .dataframe tbody tr th {\n        vertical-align: top;\n    }\n\n    .dataframe thead th {\n        text-align: right;\n    }\n</style>\n<table border=\"1\" class=\"dataframe\">\n  <thead>\n    <tr style=\"text-align: right;\">\n      <th>Series Name</th>\n      <th>Country Name</th>\n      <th>Population, total</th>\n      <th>Rural population</th>\n      <th>Urban population</th>\n      <th>Population ages 65 and above, total</th>\n    </tr>\n  </thead>\n  <tbody>\n    <tr>\n      <td>0</td>\n      <td>Afghanistan</td>\n      <td>3.805500e+07</td>\n      <td>2.704300e+07</td>\n      <td>1.101200e+07</td>\n      <td>1014000.0</td>\n    </tr>\n    <tr>\n      <td>1</td>\n      <td>Albania</td>\n      <td>2.907000e+06</td>\n      <td>1.106000e+06</td>\n      <td>1.801000e+06</td>\n      <td>417000.0</td>\n    </tr>\n    <tr>\n      <td>2</td>\n      <td>Algeria</td>\n      <td>4.333300e+07</td>\n      <td>1.152100e+07</td>\n      <td>3.181200e+07</td>\n      <td>2995000.0</td>\n    </tr>\n    <tr>\n      <td>3</td>\n      <td>American Samoa</td>\n      <td>5.600000e+04</td>\n      <td>7.000000e+03</td>\n      <td>4.900000e+04</td>\n      <td>NaN</td>\n    </tr>\n    <tr>\n      <td>4</td>\n      <td>Andorra</td>\n      <td>7.700000e+04</td>\n      <td>1.300000e+04</td>\n      <td>6.400000e+04</td>\n      <td>NaN</td>\n    </tr>\n    <tr>\n      <td>...</td>\n      <td>...</td>\n      <td>...</td>\n      <td>...</td>\n      <td>...</td>\n      <td>...</td>\n    </tr>\n    <tr>\n      <td>252</td>\n      <td>West Bank and Gaza</td>\n      <td>5.054000e+06</td>\n      <td>1.192000e+06</td>\n      <td>3.861000e+06</td>\n      <td>158000.0</td>\n    </tr>\n    <tr>\n      <td>253</td>\n      <td>World</td>\n      <td>7.766687e+09</td>\n      <td>3.405544e+09</td>\n      <td>4.335802e+09</td>\n      <td>719082000.0</td>\n    </tr>\n    <tr>\n      <td>254</td>\n      <td>Yemen, Rep.</td>\n      <td>3.024500e+07</td>\n      <td>1.889800e+07</td>\n      <td>1.134700e+07</td>\n      <td>957000.0</td>\n    </tr>\n    <tr>\n      <td>255</td>\n      <td>Zambia</td>\n      <td>1.867900e+07</td>\n      <td>1.060000e+07</td>\n      <td>8.080000e+06</td>\n      <td>525000.0</td>\n    </tr>\n    <tr>\n      <td>256</td>\n      <td>Zimbabwe</td>\n      <td>1.768000e+07</td>\n      <td>1.199500e+07</td>\n      <td>5.685000e+06</td>\n      <td>524000.0</td>\n    </tr>\n  </tbody>\n</table>\n<p>257 rows × 5 columns</p>\n</div>",
      "text/plain": "Series Name        Country Name  Population, total  Rural population  \\\n0                   Afghanistan       3.805500e+07      2.704300e+07   \n1                       Albania       2.907000e+06      1.106000e+06   \n2                       Algeria       4.333300e+07      1.152100e+07   \n3                American Samoa       5.600000e+04      7.000000e+03   \n4                       Andorra       7.700000e+04      1.300000e+04   \n..                          ...                ...               ...   \n252          West Bank and Gaza       5.054000e+06      1.192000e+06   \n253                       World       7.766687e+09      3.405544e+09   \n254                 Yemen, Rep.       3.024500e+07      1.889800e+07   \n255                      Zambia       1.867900e+07      1.060000e+07   \n256                    Zimbabwe       1.768000e+07      1.199500e+07   \n\nSeries Name  Urban population  Population ages 65 and above, total  \n0                1.101200e+07                            1014000.0  \n1                1.801000e+06                             417000.0  \n2                3.181200e+07                            2995000.0  \n3                4.900000e+04                                  NaN  \n4                6.400000e+04                                  NaN  \n..                        ...                                  ...  \n252              3.861000e+06                             158000.0  \n253              4.335802e+09                          719082000.0  \n254              1.134700e+07                             957000.0  \n255              8.080000e+06                             525000.0  \n256              5.685000e+06                             524000.0  \n\n[257 rows x 5 columns]"
     },
     "execution_count": 8,
     "metadata": {},
     "output_type": "execute_result"
    }
   ],
   "source": [
    "#store SECOND CSV into dataframe\n",
    "csv_file = \"Resources/Census_db.csv\"\n",
    "census_df = pd.read_csv(csv_file)\n",
    "\n",
    "#Leave only the needed columns\n",
    "census_df = census_df[['Country Name','Series Name','2020 [YR2020]']]\n",
    "#Clean dataframe and pivot 'series name' as column so Country Name can serve as primary key\n",
    "census_df = census_df.dropna()\n",
    "census_df = census_df.pivot(index='Country Name', columns='Series Name')['2020 [YR2020]']\n",
    "census_df = census_df.reset_index()\n",
    "\n",
    "#Leave only the desired columns\n",
    "final_census_df = census_df[[\"Country Name\",\"Population, total\",\"Rural population\",\"Urban population\",\"Population ages 65 and above, total\"]].copy()\n",
    "\n",
    "final_census_df"
   ]
  },
  {
   "cell_type": "code",
   "execution_count": 9,
   "metadata": {},
   "outputs": [
    {
     "data": {
      "text/html": "<div>\n<style scoped>\n    .dataframe tbody tr th:only-of-type {\n        vertical-align: middle;\n    }\n\n    .dataframe tbody tr th {\n        vertical-align: top;\n    }\n\n    .dataframe thead th {\n        text-align: right;\n    }\n</style>\n<table border=\"1\" class=\"dataframe\">\n  <thead>\n    <tr style=\"text-align: right;\">\n      <th></th>\n      <th>Confirmed</th>\n      <th>Deaths</th>\n      <th>Recovered</th>\n      <th>Population, total</th>\n      <th>Rural population</th>\n      <th>Urban population</th>\n      <th>Population ages 65 and above, total</th>\n    </tr>\n    <tr>\n      <th>Country Name</th>\n      <th></th>\n      <th></th>\n      <th></th>\n      <th></th>\n      <th></th>\n      <th></th>\n      <th></th>\n    </tr>\n  </thead>\n  <tbody>\n    <tr>\n      <td>Australia</td>\n      <td>15</td>\n      <td>0</td>\n      <td>2</td>\n      <td>2.537900e+07</td>\n      <td>2523000.0</td>\n      <td>22855000.0</td>\n      <td>4141000.0</td>\n    </tr>\n    <tr>\n      <td>Belgium</td>\n      <td>1</td>\n      <td>0</td>\n      <td>0</td>\n      <td>1.158300e+07</td>\n      <td>227000.0</td>\n      <td>11356000.0</td>\n      <td>2236000.0</td>\n    </tr>\n    <tr>\n      <td>Cambodia</td>\n      <td>1</td>\n      <td>0</td>\n      <td>0</td>\n      <td>1.671600e+07</td>\n      <td>13043000.0</td>\n      <td>3673000.0</td>\n      <td>812000.0</td>\n    </tr>\n    <tr>\n      <td>Canada</td>\n      <td>7</td>\n      <td>0</td>\n      <td>0</td>\n      <td>3.756300e+07</td>\n      <td>6493000.0</td>\n      <td>31071000.0</td>\n      <td>6868000.0</td>\n    </tr>\n    <tr>\n      <td>Finland</td>\n      <td>1</td>\n      <td>0</td>\n      <td>0</td>\n      <td>5.556000e+06</td>\n      <td>838000.0</td>\n      <td>4717000.0</td>\n      <td>1251000.0</td>\n    </tr>\n    <tr>\n      <td>France</td>\n      <td>11</td>\n      <td>0</td>\n      <td>0</td>\n      <td>6.790200e+07</td>\n      <td>13140000.0</td>\n      <td>54762000.0</td>\n      <td>14154000.0</td>\n    </tr>\n    <tr>\n      <td>Germany</td>\n      <td>14</td>\n      <td>0</td>\n      <td>0</td>\n      <td>8.226400e+07</td>\n      <td>19441000.0</td>\n      <td>62823000.0</td>\n      <td>18703000.0</td>\n    </tr>\n    <tr>\n      <td>India</td>\n      <td>3</td>\n      <td>0</td>\n      <td>0</td>\n      <td>1.383198e+09</td>\n      <td>902080000.0</td>\n      <td>481118000.0</td>\n      <td>90170000.0</td>\n    </tr>\n    <tr>\n      <td>Italy</td>\n      <td>3</td>\n      <td>0</td>\n      <td>0</td>\n      <td>6.041800e+07</td>\n      <td>18241000.0</td>\n      <td>42177000.0</td>\n      <td>14507000.0</td>\n    </tr>\n    <tr>\n      <td>Japan</td>\n      <td>26</td>\n      <td>0</td>\n      <td>4</td>\n      <td>1.254170e+08</td>\n      <td>5938000.0</td>\n      <td>119478000.0</td>\n      <td>35685000.0</td>\n    </tr>\n    <tr>\n      <td>Nepal</td>\n      <td>1</td>\n      <td>0</td>\n      <td>0</td>\n      <td>3.026000e+07</td>\n      <td>24030000.0</td>\n      <td>6230000.0</td>\n      <td>1899000.0</td>\n    </tr>\n    <tr>\n      <td>Philippines</td>\n      <td>3</td>\n      <td>1</td>\n      <td>0</td>\n      <td>1.097030e+08</td>\n      <td>61149000.0</td>\n      <td>48555000.0</td>\n      <td>5623000.0</td>\n    </tr>\n    <tr>\n      <td>Singapore</td>\n      <td>45</td>\n      <td>0</td>\n      <td>2</td>\n      <td>5.879000e+06</td>\n      <td>0.0</td>\n      <td>5879000.0</td>\n      <td>886000.0</td>\n    </tr>\n    <tr>\n      <td>Spain</td>\n      <td>2</td>\n      <td>0</td>\n      <td>0</td>\n      <td>4.650500e+07</td>\n      <td>8985000.0</td>\n      <td>37520000.0</td>\n      <td>9449000.0</td>\n    </tr>\n    <tr>\n      <td>Sri Lanka</td>\n      <td>1</td>\n      <td>0</td>\n      <td>1</td>\n      <td>2.155200e+07</td>\n      <td>17506000.0</td>\n      <td>4047000.0</td>\n      <td>2410000.0</td>\n    </tr>\n    <tr>\n      <td>Sweden</td>\n      <td>1</td>\n      <td>0</td>\n      <td>0</td>\n      <td>1.017900e+07</td>\n      <td>1369000.0</td>\n      <td>8810000.0</td>\n      <td>2106000.0</td>\n    </tr>\n    <tr>\n      <td>Thailand</td>\n      <td>32</td>\n      <td>0</td>\n      <td>10</td>\n      <td>6.941100e+07</td>\n      <td>30650000.0</td>\n      <td>38761000.0</td>\n      <td>9005000.0</td>\n    </tr>\n    <tr>\n      <td>United Arab Emirates</td>\n      <td>8</td>\n      <td>0</td>\n      <td>0</td>\n      <td>9.813000e+06</td>\n      <td>1299000.0</td>\n      <td>8514000.0</td>\n      <td>184000.0</td>\n    </tr>\n    <tr>\n      <td>Vietnam</td>\n      <td>14</td>\n      <td>0</td>\n      <td>1</td>\n      <td>9.636000e+07</td>\n      <td>60900000.0</td>\n      <td>35459000.0</td>\n      <td>7749000.0</td>\n    </tr>\n  </tbody>\n</table>\n</div>",
      "text/plain": "                      Confirmed  Deaths  Recovered  Population, total  \\\nCountry Name                                                            \nAustralia                    15       0          2       2.537900e+07   \nBelgium                       1       0          0       1.158300e+07   \nCambodia                      1       0          0       1.671600e+07   \nCanada                        7       0          0       3.756300e+07   \nFinland                       1       0          0       5.556000e+06   \nFrance                       11       0          0       6.790200e+07   \nGermany                      14       0          0       8.226400e+07   \nIndia                         3       0          0       1.383198e+09   \nItaly                         3       0          0       6.041800e+07   \nJapan                        26       0          4       1.254170e+08   \nNepal                         1       0          0       3.026000e+07   \nPhilippines                   3       1          0       1.097030e+08   \nSingapore                    45       0          2       5.879000e+06   \nSpain                         2       0          0       4.650500e+07   \nSri Lanka                     1       0          1       2.155200e+07   \nSweden                        1       0          0       1.017900e+07   \nThailand                     32       0         10       6.941100e+07   \nUnited Arab Emirates          8       0          0       9.813000e+06   \nVietnam                      14       0          1       9.636000e+07   \n\n                      Rural population  Urban population  \\\nCountry Name                                               \nAustralia                    2523000.0        22855000.0   \nBelgium                       227000.0        11356000.0   \nCambodia                    13043000.0         3673000.0   \nCanada                       6493000.0        31071000.0   \nFinland                       838000.0         4717000.0   \nFrance                      13140000.0        54762000.0   \nGermany                     19441000.0        62823000.0   \nIndia                      902080000.0       481118000.0   \nItaly                       18241000.0        42177000.0   \nJapan                        5938000.0       119478000.0   \nNepal                       24030000.0         6230000.0   \nPhilippines                 61149000.0        48555000.0   \nSingapore                          0.0         5879000.0   \nSpain                        8985000.0        37520000.0   \nSri Lanka                   17506000.0         4047000.0   \nSweden                       1369000.0         8810000.0   \nThailand                    30650000.0        38761000.0   \nUnited Arab Emirates         1299000.0         8514000.0   \nVietnam                     60900000.0        35459000.0   \n\n                      Population ages 65 and above, total  \nCountry Name                                               \nAustralia                                       4141000.0  \nBelgium                                         2236000.0  \nCambodia                                         812000.0  \nCanada                                          6868000.0  \nFinland                                         1251000.0  \nFrance                                         14154000.0  \nGermany                                        18703000.0  \nIndia                                          90170000.0  \nItaly                                          14507000.0  \nJapan                                          35685000.0  \nNepal                                           1899000.0  \nPhilippines                                     5623000.0  \nSingapore                                        886000.0  \nSpain                                           9449000.0  \nSri Lanka                                       2410000.0  \nSweden                                          2106000.0  \nThailand                                        9005000.0  \nUnited Arab Emirates                             184000.0  \nVietnam                                         7749000.0  "
     },
     "execution_count": 9,
     "metadata": {},
     "output_type": "execute_result"
    }
   ],
   "source": [
    "#Merge Dataset and clean\n",
    "\n",
    "merged_df = final_corona_df.merge(final_census_df, how = \"inner\", left_on =\"Country\", right_on=\"Country Name\")\n",
    "merged_df = merged_df.set_index(\"Country Name\").dropna()\n",
    "\n",
    "merged_df"
   ]
  },
  {
   "cell_type": "code",
   "execution_count": 11,
   "metadata": {},
   "outputs": [],
   "source": [
    "# connect to local database\n",
    "rds_connection_string = f\"{usid}:{pw}@localhost:5432/ETLpjt\"\n",
    "engine = create_engine(f'postgresql://{rds_connection_string}')\n",
    "\n",
    "merged_df.to_sql(name='ETLpjt', con=engine, if_exists='append', index=False)\n"
   ]
  },
  {
   "cell_type": "code",
   "execution_count": null,
   "metadata": {},
   "outputs": [],
   "source": []
  }
 ],
 "metadata": {
  "kernelspec": {
   "display_name": "Python 3",
   "language": "python",
   "name": "python3"
  },
  "language_info": {
   "codemirror_mode": {
    "name": "ipython",
    "version": 3
   },
   "file_extension": ".py",
   "mimetype": "text/x-python",
   "name": "python",
   "nbconvert_exporter": "python",
   "pygments_lexer": "ipython3",
   "version": "3.7.4-final"
  }
 },
 "nbformat": 4,
 "nbformat_minor": 2
}